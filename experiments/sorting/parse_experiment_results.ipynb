{
 "cells": [
  {
   "cell_type": "markdown",
   "metadata": {},
   "source": [
    "# Parsing results for recurrent models"
   ]
  },
  {
   "cell_type": "code",
   "execution_count": 1,
   "metadata": {},
   "outputs": [],
   "source": [
    "import wandb\n",
    "import plotly.express as px\n",
    "import numpy as np\n",
    "import pandas as pd\n",
    "\n",
    "import pprint\n",
    "pp = pprint.PrettyPrinter(indent=4)\n",
    "\n",
    "import sys, os; sys.path.append(os.path.abspath('../..'))\n",
    "from utils.utils import AttributeDict"
   ]
  },
  {
   "cell_type": "code",
   "execution_count": 2,
   "metadata": {},
   "outputs": [
    {
     "name": "stdout",
     "output_type": "stream",
     "text": [
      "[# 5] Group: L2H4D256_rotary_IRTrue_WTFalse-False_discinterm-NA_prepostdiscnorm-False-True - progressive - MaxVal64-TrainLen16RandLen-BOSEOS\n",
      "  Total Mult-Adds: 1214784\n",
      "  total_params: 1215040\n",
      "  num_params: 1215040\n",
      "  trainable_params: 1215040\n",
      "  num_trainable_params: 1215040\n",
      "  Estimated total size (MB): 5.424592\n",
      "  Forward/backward pass size  (MB): 0.565248\n",
      "  Params size (MB): 4.859136\n",
      "  norm_method: none\n",
      "  seed: 556468681\n",
      "  experiment_run_name: 2024-12-24-18:51:37\n",
      "  Total Mult-Adds: 1214784\n",
      "  total_params: 1215040\n",
      "  num_params: 1215040\n",
      "  trainable_params: 1215040\n",
      "  num_trainable_params: 1215040\n",
      "  Estimated total size (MB): 5.424592\n",
      "  Forward/backward pass size  (MB): 0.565248\n",
      "  Params size (MB): 4.859136\n",
      "  norm_method: none\n",
      "  seed: 556468681\n",
      "  experiment_run_name: 2024-12-24-18:51:37\n",
      "  data_config: {'max_value': 64, 'train_min_sequence_length': 2, 'val_sequence_length': 16, 'ood_test_sequence_lengths': [10, 11, 12, 13, 14, 15, 16, 17, 18, 19, 20, 21, 22, 23, 24], 'train_random_sequence_length': True, 'num_test_samples': 50, 'include_bos_eos': True, 'num_train_samples': 100000, 'num_val_samples': 50, 'train_sequence_length': 16}\n",
      "  model_summary: {'Total Mult-Adds': 1214784, 'total_params': 1215040, 'num_params': 1215040, 'Input size (MB)': 0.000208, 'trainable_params': 1215040, 'num_trainable_params': 1215040, 'Estimated total size (MB)': 5.424592, 'Forward/backward pass size  (MB)': 0.565248, 'Params size (MB)': 4.859136}\n",
      "  model_config: {'vocab_size': 64, 'postdisc_norm': True, 'weight_tie_embed_to_token': False, 'dff': 512, 'pos_enc_type': 'rotary', 'attn_kwargs': {'attn_score_fn': 'softmax'}, 'weight_tie_discrete_interm': False, 'input_recall_type': 'concat', 'intermediate_discretization': {'discrete_intermediate': False}, 'd_model': 256, 'predisc_norm': False, 'n_layers': 2, 'input_recall': True, 'n_heads': 4, 'norm_config': {'norm_method': 'none', 'norm_type': 'rmsnorm'}}\n",
      "  train_config: {'val_check_interval': 0.05, 'SGD_optimizer_config': {'momentum': 0.9, 'nesterov': True, 'weight_decay': 0.01, 'lr': 0.01}, 'num_workers': 4, 'AdamW_optimizer_config': {'lr': 0.001, 'weight_decay': 0.01, 'betas': [0.9, 0.999], 'eps': 1e-08}, 'progressive_training_prob': 1, 'optimizer': 'AdamW', 'incremental_training': False, 'wandb_config': {'wandb_entity': 'neural-program-induction', 'wandb_project': 'sorting-recurrent-resstream-exploration', 'log_model': True, 'watch': True}, 'lr_scheduler': None, 'experiment_group': 'L2H4D256_rotary_IRTrue_WTFalse-False_discinterm-NA_prepostdiscnorm-False-True - progressive - MaxVal64-TrainLen16RandLen-BOSEOS', 'train_max_n_iters': 8, 'max_epochs': 1, 'matmul_precision': 'medium', 'RMSprop_optimizer_config': {'weight_decay': 0.01, 'alpha': 0.99, 'lr': 0.001, 'momentum': 0}, 'seed': 556468681, 'learning_rate': 0.001, 'cosine_scheduler_config': {'min_lr': 1e-05, 'warmup_steps': 1000, 'lr_decay_steps': 300000}, 'test_max_n_iters': 24, 'precision': 'bf16-mixed', 'progressive_training': True, 'StepLR_scheduler_config': {'step_size': 1000, 'gamma': 0.1}, 'batch_size': 64, 'Adam_optimizer_config': {'betas': [0.9, 0.999], 'lr': 0.001, 'weight_decay': 0, 'eps': 1e-08}, 'compile': False, 'experiment_run_name': '2024-12-24-18:51:37'}\n",
      "  Total Mult-Adds: 1214784\n",
      "  total_params: 1215040\n",
      "  num_params: 1215040\n",
      "  trainable_params: 1215040\n",
      "  num_trainable_params: 1215040\n",
      "  Estimated total size (MB): 5.424592\n",
      "  Forward/backward pass size  (MB): 0.565248\n",
      "  Params size (MB): 4.859136\n",
      "  norm_method: none\n",
      "  seed: 556468681\n",
      "  experiment_run_name: 2024-12-24-18:51:37\n",
      "--------------------------------------------------------------------------------\n",
      "[# 5] Group: L2H4D256_rotary_IRTrue_WTFalse-False_discinterm-NA - progressive - MaxVal64-TrainLen16RandLen-BOSEOS\n",
      "  seed: 156943354\n",
      "  experiment_run_name: 2024-12-24-18:51:42\n",
      "  norm_method: none\n",
      "  total_params: 1214784\n",
      "  Total Mult-Adds: 1214784\n",
      "  num_params: 1214784\n",
      "  num_trainable_params: 1214784\n",
      "  trainable_params: 1214784\n",
      "  Params size (MB): 4.859136\n",
      "  Estimated total size (MB): 5.424592\n",
      "  Forward/backward pass size  (MB): 0.565248\n",
      "  seed: 156943354\n",
      "  experiment_run_name: 2024-12-24-18:51:42\n",
      "  norm_method: none\n",
      "  total_params: 1214784\n",
      "  Total Mult-Adds: 1214784\n",
      "  num_params: 1214784\n",
      "  num_trainable_params: 1214784\n",
      "  trainable_params: 1214784\n",
      "  Params size (MB): 4.859136\n",
      "  Estimated total size (MB): 5.424592\n",
      "  Forward/backward pass size  (MB): 0.565248\n",
      "  train_config: {'compile': False, 'seed': 156943354, 'wandb_config': {'wandb_entity': 'neural-program-induction', 'wandb_project': 'sorting-recurrent-resstream-exploration', 'watch': True, 'log_model': True}, 'AdamW_optimizer_config': {'eps': 1e-08, 'betas': [0.9, 0.999], 'lr': 0.001, 'weight_decay': 0.01}, 'Adam_optimizer_config': {'lr': 0.001, 'eps': 1e-08, 'betas': [0.9, 0.999], 'weight_decay': 0}, 'experiment_group': 'L2H4D256_rotary_IRTrue_WTFalse-False_discinterm-NA - progressive - MaxVal64-TrainLen16RandLen-BOSEOS', 'matmul_precision': 'medium', 'cosine_scheduler_config': {'lr_decay_steps': 300000, 'min_lr': 1e-05, 'warmup_steps': 1000}, 'optimizer': 'AdamW', 'lr_scheduler': None, 'RMSprop_optimizer_config': {'alpha': 0.99, 'momentum': 0, 'weight_decay': 0.01, 'lr': 0.001}, 'progressive_training_prob': 1, 'experiment_run_name': '2024-12-24-18:51:42', 'learning_rate': 0.001, 'max_epochs': 1, 'StepLR_scheduler_config': {'gamma': 0.1, 'step_size': 1000}, 'num_workers': 4, 'progressive_training': True, 'batch_size': 64, 'SGD_optimizer_config': {'momentum': 0.9, 'weight_decay': 0.01, 'nesterov': True, 'lr': 0.01}, 'val_check_interval': 0.05, 'precision': 'bf16-mixed', 'test_max_n_iters': 24, 'incremental_training': False, 'train_max_n_iters': 8}\n",
      "  model_config: {'n_heads': 4, 'input_recall': True, 'attn_kwargs': {'attn_score_fn': 'softmax'}, 'norm_config': {'norm_type': 'rmsnorm', 'norm_method': 'none'}, 'postdisc_norm': False, 'pos_enc_type': 'rotary', 'intermediate_discretization': {'discrete_intermediate': False}, 'dff': 512, 'weight_tie_discrete_interm': False, 'n_layers': 2, 'predisc_norm': False, 'weight_tie_embed_to_token': False, 'd_model': 256, 'vocab_size': 64, 'input_recall_type': 'concat'}\n",
      "  model_summary: {'Input size (MB)': 0.000208, 'total_params': 1214784, 'Total Mult-Adds': 1214784, 'num_params': 1214784, 'num_trainable_params': 1214784, 'trainable_params': 1214784, 'Params size (MB)': 4.859136, 'Estimated total size (MB)': 5.424592, 'Forward/backward pass size  (MB)': 0.565248}\n",
      "  data_config: {'train_min_sequence_length': 2, 'num_test_samples': 50, 'num_val_samples': 50, 'train_sequence_length': 16, 'train_random_sequence_length': True, 'ood_test_sequence_lengths': [10, 11, 12, 13, 14, 15, 16, 17, 18, 19, 20, 21, 22, 23, 24], 'val_sequence_length': 16, 'max_value': 64, 'num_train_samples': 100000, 'include_bos_eos': True}\n",
      "  seed: 156943354\n",
      "  experiment_run_name: 2024-12-24-18:51:42\n",
      "  norm_method: none\n",
      "  total_params: 1214784\n",
      "  Total Mult-Adds: 1214784\n",
      "  num_params: 1214784\n",
      "  num_trainable_params: 1214784\n",
      "  trainable_params: 1214784\n",
      "  Params size (MB): 4.859136\n",
      "  Estimated total size (MB): 5.424592\n",
      "  Forward/backward pass size  (MB): 0.565248\n",
      "--------------------------------------------------------------------------------\n",
      "[# 5] Group: L2H4D256_rotary_IRTrue_WTFalse-False_discinterm-NA_prepostdiscnorm-True-False - progressive - MaxVal64-TrainLen16RandLen-BOSEOS\n",
      "  norm_method: none\n",
      "  Forward/backward pass size  (MB): 0.565248\n",
      "  total_params: 1215040\n",
      "  num_trainable_params: 1215040\n",
      "  num_params: 1215040\n",
      "  Total Mult-Adds: 1214784\n",
      "  Params size (MB): 4.859136\n",
      "  Estimated total size (MB): 5.424592\n",
      "  trainable_params: 1215040\n",
      "  seed: 1069823487\n",
      "  experiment_run_name: 2024-12-24-19:47:48\n",
      "  norm_method: none\n",
      "  Forward/backward pass size  (MB): 0.565248\n",
      "  total_params: 1215040\n",
      "  num_trainable_params: 1215040\n",
      "  num_params: 1215040\n",
      "  Total Mult-Adds: 1214784\n",
      "  Params size (MB): 4.859136\n",
      "  Estimated total size (MB): 5.424592\n",
      "  trainable_params: 1215040\n",
      "  seed: 1069823487\n",
      "  experiment_run_name: 2024-12-24-19:47:48\n",
      "  model_config: {'n_heads': 4, 'postdisc_norm': False, 'norm_config': {'norm_method': 'none', 'norm_type': 'rmsnorm'}, 'intermediate_discretization': {'discrete_intermediate': False}, 'dff': 512, 'pos_enc_type': 'rotary', 'weight_tie_embed_to_token': False, 'input_recall': True, 'input_recall_type': 'concat', 'weight_tie_discrete_interm': False, 'attn_kwargs': {'attn_score_fn': 'softmax'}, 'n_layers': 2, 'predisc_norm': True, 'vocab_size': 64, 'd_model': 256}\n",
      "  model_summary: {'Forward/backward pass size  (MB)': 0.565248, 'total_params': 1215040, 'num_trainable_params': 1215040, 'num_params': 1215040, 'Total Mult-Adds': 1214784, 'Input size (MB)': 0.000208, 'Params size (MB)': 4.859136, 'Estimated total size (MB)': 5.424592, 'trainable_params': 1215040}\n",
      "  train_config: {'incremental_training': False, 'batch_size': 64, 'AdamW_optimizer_config': {'betas': [0.9, 0.999], 'weight_decay': 0.01, 'eps': 1e-08, 'lr': 0.001}, 'Adam_optimizer_config': {'eps': 1e-08, 'betas': [0.9, 0.999], 'lr': 0.001, 'weight_decay': 0}, 'lr_scheduler': None, 'experiment_group': 'L2H4D256_rotary_IRTrue_WTFalse-False_discinterm-NA_prepostdiscnorm-True-False - progressive - MaxVal64-TrainLen16RandLen-BOSEOS', 'seed': 1069823487, 'precision': 'bf16-mixed', 'StepLR_scheduler_config': {'step_size': 1000, 'gamma': 0.1}, 'learning_rate': 0.001, 'experiment_run_name': '2024-12-24-19:47:48', 'optimizer': 'AdamW', 'val_check_interval': 0.05, 'cosine_scheduler_config': {'warmup_steps': 1000, 'min_lr': 1e-05, 'lr_decay_steps': 300000}, 'train_max_n_iters': 8, 'progressive_training_prob': 1, 'test_max_n_iters': 24, 'wandb_config': {'watch': True, 'wandb_entity': 'neural-program-induction', 'log_model': True, 'wandb_project': 'sorting-recurrent-resstream-exploration'}, 'matmul_precision': 'medium', 'num_workers': 4, 'max_epochs': 1, 'compile': False, 'SGD_optimizer_config': {'lr': 0.01, 'weight_decay': 0.01, 'momentum': 0.9, 'nesterov': True}, 'progressive_training': True, 'RMSprop_optimizer_config': {'alpha': 0.99, 'lr': 0.001, 'weight_decay': 0.01, 'momentum': 0}}\n",
      "  data_config: {'val_sequence_length': 16, 'num_test_samples': 50, 'num_train_samples': 100000, 'train_min_sequence_length': 2, 'train_random_sequence_length': True, 'include_bos_eos': True, 'train_sequence_length': 16, 'ood_test_sequence_lengths': [10, 11, 12, 13, 14, 15, 16, 17, 18, 19, 20, 21, 22, 23, 24], 'max_value': 64, 'num_val_samples': 50}\n",
      "  norm_method: none\n",
      "  Forward/backward pass size  (MB): 0.565248\n",
      "  total_params: 1215040\n",
      "  num_trainable_params: 1215040\n",
      "  num_params: 1215040\n",
      "  Total Mult-Adds: 1214784\n",
      "  Params size (MB): 4.859136\n",
      "  Estimated total size (MB): 5.424592\n",
      "  trainable_params: 1215040\n",
      "  seed: 1069823487\n",
      "  experiment_run_name: 2024-12-24-19:47:48\n",
      "--------------------------------------------------------------------------------\n",
      "[# 5] Group: L2H4D256_rotary_IRTrue_WTFalse-False_discinterm-NA_prepostdiscnorm-True-True - progressive - MaxVal64-TrainLen16RandLen-BOSEOS\n",
      "  norm_method: none\n",
      "  num_params: 1215296\n",
      "  Forward/backward pass size  (MB): 0.565248\n",
      "  Total Mult-Adds: 1214784\n",
      "  total_params: 1215296\n",
      "  num_trainable_params: 1215296\n",
      "  trainable_params: 1215296\n",
      "  Estimated total size (MB): 5.424592\n",
      "  Params size (MB): 4.859136\n",
      "  seed: 1981000589\n",
      "  experiment_run_name: 2024-12-24-19:59:14\n",
      "  norm_method: none\n",
      "  num_params: 1215296\n",
      "  Forward/backward pass size  (MB): 0.565248\n",
      "  Total Mult-Adds: 1214784\n",
      "  total_params: 1215296\n",
      "  num_trainable_params: 1215296\n",
      "  trainable_params: 1215296\n",
      "  Estimated total size (MB): 5.424592\n",
      "  Params size (MB): 4.859136\n",
      "  seed: 1981000589\n",
      "  experiment_run_name: 2024-12-24-19:59:14\n",
      "  model_config: {'intermediate_discretization': {'discrete_intermediate': False}, 'n_heads': 4, 'predisc_norm': True, 'weight_tie_discrete_interm': False, 'd_model': 256, 'dff': 512, 'input_recall': True, 'weight_tie_embed_to_token': False, 'pos_enc_type': 'rotary', 'attn_kwargs': {'attn_score_fn': 'softmax'}, 'n_layers': 2, 'input_recall_type': 'concat', 'norm_config': {'norm_type': 'rmsnorm', 'norm_method': 'none'}, 'postdisc_norm': True, 'vocab_size': 64}\n",
      "  model_summary: {'num_params': 1215296, 'Forward/backward pass size  (MB)': 0.565248, 'Input size (MB)': 0.000208, 'Total Mult-Adds': 1214784, 'total_params': 1215296, 'num_trainable_params': 1215296, 'trainable_params': 1215296, 'Estimated total size (MB)': 5.424592, 'Params size (MB)': 4.859136}\n",
      "  data_config: {'num_val_samples': 50, 'num_test_samples': 50, 'train_random_sequence_length': True, 'max_value': 64, 'val_sequence_length': 16, 'train_min_sequence_length': 2, 'num_train_samples': 100000, 'include_bos_eos': True, 'train_sequence_length': 16, 'ood_test_sequence_lengths': [10, 11, 12, 13, 14, 15, 16, 17, 18, 19, 20, 21, 22, 23, 24]}\n",
      "  train_config: {'optimizer': 'AdamW', 'precision': 'bf16-mixed', 'progressive_training': True, 'val_check_interval': 0.05, 'StepLR_scheduler_config': {'gamma': 0.1, 'step_size': 1000}, 'wandb_config': {'watch': True, 'log_model': True, 'wandb_entity': 'neural-program-induction', 'wandb_project': 'sorting-recurrent-resstream-exploration'}, 'AdamW_optimizer_config': {'eps': 1e-08, 'betas': [0.9, 0.999], 'lr': 0.001, 'weight_decay': 0.01}, 'SGD_optimizer_config': {'weight_decay': 0.01, 'momentum': 0.9, 'lr': 0.01, 'nesterov': True}, 'learning_rate': 0.001, 'lr_scheduler': None, 'max_epochs': 1, 'compile': False, 'seed': 1981000589, 'experiment_run_name': '2024-12-24-19:59:14', 'matmul_precision': 'medium', 'Adam_optimizer_config': {'lr': 0.001, 'weight_decay': 0, 'eps': 1e-08, 'betas': [0.9, 0.999]}, 'progressive_training_prob': 1, 'cosine_scheduler_config': {'min_lr': 1e-05, 'warmup_steps': 1000, 'lr_decay_steps': 300000}, 'experiment_group': 'L2H4D256_rotary_IRTrue_WTFalse-False_discinterm-NA_prepostdiscnorm-True-True - progressive - MaxVal64-TrainLen16RandLen-BOSEOS', 'train_max_n_iters': 8, 'num_workers': 4, 'RMSprop_optimizer_config': {'weight_decay': 0.01, 'lr': 0.001, 'alpha': 0.99, 'momentum': 0}, 'incremental_training': False, 'batch_size': 64, 'test_max_n_iters': 24}\n",
      "  norm_method: none\n",
      "  num_params: 1215296\n",
      "  Forward/backward pass size  (MB): 0.565248\n",
      "  Total Mult-Adds: 1214784\n",
      "  total_params: 1215296\n",
      "  num_trainable_params: 1215296\n",
      "  trainable_params: 1215296\n",
      "  Estimated total size (MB): 5.424592\n",
      "  Params size (MB): 4.859136\n",
      "  seed: 1981000589\n",
      "  experiment_run_name: 2024-12-24-19:59:14\n",
      "--------------------------------------------------------------------------------\n",
      "[# 5] Group: L2H4D256_rotary_IRTrue_WTFalse-False_discinterm-softmax - progressive - MaxVal64-TrainLen16RandLen-BOSEOS\n",
      "  total_params: 1231424\n",
      "  Total Mult-Adds: 1247872\n",
      "  Params size (MB): 4.925696\n",
      "  Estimated total size (MB): 5.532112\n",
      "  trainable_params: 1231424\n",
      "  num_trainable_params: 1231424\n",
      "  num_params: 1231424\n",
      "  Forward/backward pass size  (MB): 0.606208\n",
      "  experiment_run_name: 2024-12-24-20:43:45\n",
      "  seed: 2080661724\n",
      "  norm_method: none\n",
      "  total_params: 1231424\n",
      "  Total Mult-Adds: 1247872\n",
      "  Params size (MB): 4.925696\n",
      "  Estimated total size (MB): 5.532112\n",
      "  trainable_params: 1231424\n",
      "  num_trainable_params: 1231424\n",
      "  num_params: 1231424\n",
      "  Forward/backward pass size  (MB): 0.606208\n",
      "  experiment_run_name: 2024-12-24-20:43:45\n",
      "  seed: 2080661724\n",
      "  norm_method: none\n",
      "  model_summary: {'total_params': 1231424, 'Total Mult-Adds': 1247872, 'Params size (MB)': 4.925696, 'Input size (MB)': 0.000208, 'Estimated total size (MB)': 5.532112, 'trainable_params': 1231424, 'num_trainable_params': 1231424, 'num_params': 1231424, 'Forward/backward pass size  (MB)': 0.606208}\n",
      "  train_config: {'experiment_run_name': '2024-12-24-20:43:45', 'SGD_optimizer_config': {'weight_decay': 0.01, 'nesterov': True, 'lr': 0.01, 'momentum': 0.9}, 'wandb_config': {'log_model': True, 'watch': True, 'wandb_entity': 'neural-program-induction', 'wandb_project': 'sorting-recurrent-resstream-exploration'}, 'lr_scheduler': None, 'learning_rate': 0.001, 'StepLR_scheduler_config': {'step_size': 1000, 'gamma': 0.1}, 'incremental_training': False, 'optimizer': 'AdamW', 'Adam_optimizer_config': {'lr': 0.001, 'weight_decay': 0, 'eps': 1e-08, 'betas': [0.9, 0.999]}, 'progressive_training': True, 'train_max_n_iters': 8, 'precision': 'bf16-mixed', 'AdamW_optimizer_config': {'lr': 0.001, 'eps': 1e-08, 'betas': [0.9, 0.999], 'weight_decay': 0.01}, 'max_epochs': 1, 'test_max_n_iters': 24, 'num_workers': 4, 'val_check_interval': 0.05, 'matmul_precision': 'medium', 'cosine_scheduler_config': {'min_lr': 1e-05, 'lr_decay_steps': 300000, 'warmup_steps': 1000}, 'RMSprop_optimizer_config': {'momentum': 0, 'weight_decay': 0.01, 'lr': 0.001, 'alpha': 0.99}, 'batch_size': 64, 'experiment_group': 'L2H4D256_rotary_IRTrue_WTFalse-False_discinterm-softmax - progressive - MaxVal64-TrainLen16RandLen-BOSEOS', 'compile': False, 'seed': 2080661724, 'progressive_training_prob': 1}\n",
      "  data_config: {'train_random_sequence_length': True, 'num_val_samples': 50, 'ood_test_sequence_lengths': [10, 11, 12, 13, 14, 15, 16, 17, 18, 19, 20, 21, 22, 23, 24], 'val_sequence_length': 16, 'num_test_samples': 50, 'include_bos_eos': True, 'num_train_samples': 100000, 'train_sequence_length': 16, 'train_min_sequence_length': 2, 'max_value': 64}\n",
      "  model_config: {'vocab_size': 64, 'weight_tie_discrete_interm': False, 'attn_kwargs': {'attn_score_fn': 'softmax'}, 'n_heads': 4, 'dff': 512, 'n_layers': 2, 'postdisc_norm': False, 'pos_enc_type': 'rotary', 'input_recall': True, 'norm_config': {'norm_type': 'rmsnorm', 'norm_method': 'none'}, 'weight_tie_embed_to_token': False, 'intermediate_discretization': {'discrete_intermediate': True, 'discretize_map': 'softmax'}, 'd_model': 256, 'predisc_norm': False, 'input_recall_type': 'concat'}\n",
      "  total_params: 1231424\n",
      "  Total Mult-Adds: 1247872\n",
      "  Params size (MB): 4.925696\n",
      "  Estimated total size (MB): 5.532112\n",
      "  trainable_params: 1231424\n",
      "  num_trainable_params: 1231424\n",
      "  num_params: 1231424\n",
      "  Forward/backward pass size  (MB): 0.606208\n",
      "  experiment_run_name: 2024-12-24-20:43:45\n",
      "  seed: 2080661724\n",
      "  norm_method: none\n",
      "--------------------------------------------------------------------------------\n",
      "[# 1] Group: HASH-1185098272202228526\n",
      "--------------------------------------------------------------------------------\n",
      "[# 1] Group: HASH--945422630573347363\n",
      "--------------------------------------------------------------------------------\n",
      "[# 4] Group: L2H4D256_rotary_IRTrue_WTFalse-False_discinterm-gumbel-softmax - progressive - MaxVal64-TrainLen16RandLen-BOSEOS\n",
      "  num_trainable_params: 1231424\n",
      "  Forward/backward pass size  (MB): 0.606208\n",
      "  num_params: 1231424\n",
      "  total_params: 1231424\n",
      "  Total Mult-Adds: 1247872\n",
      "  trainable_params: 1231424\n",
      "  Params size (MB): 4.925696\n",
      "  Estimated total size (MB): 5.532112\n",
      "  norm_method: none\n",
      "  experiment_run_name: 2024-12-24-21:29:32\n",
      "  seed: 2167860937\n",
      "  num_trainable_params: 1231424\n",
      "  Forward/backward pass size  (MB): 0.606208\n",
      "  num_params: 1231424\n",
      "  total_params: 1231424\n",
      "  Total Mult-Adds: 1247872\n",
      "  trainable_params: 1231424\n",
      "  Params size (MB): 4.925696\n",
      "  Estimated total size (MB): 5.532112\n",
      "  norm_method: none\n",
      "  experiment_run_name: 2024-12-24-21:29:32\n",
      "  seed: 2167860937\n",
      "  model_summary: {'num_trainable_params': 1231424, 'Forward/backward pass size  (MB)': 0.606208, 'num_params': 1231424, 'total_params': 1231424, 'Total Mult-Adds': 1247872, 'trainable_params': 1231424, 'Params size (MB)': 4.925696, 'Input size (MB)': 0.000208, 'Estimated total size (MB)': 5.532112}\n",
      "  data_config: {'ood_test_sequence_lengths': [10, 11, 12, 13, 14, 15, 16, 17, 18, 19, 20, 21, 22, 23, 24], 'train_min_sequence_length': 2, 'num_val_samples': 50, 'num_train_samples': 100000, 'train_sequence_length': 16, 'max_value': 64, 'include_bos_eos': True, 'val_sequence_length': 16, 'num_test_samples': 50, 'train_random_sequence_length': True}\n",
      "  model_config: {'postdisc_norm': False, 'input_recall_type': 'concat', 'dff': 512, 'intermediate_discretization': {'discretization_map_params': {'tau': 1, 'hard': False}, 'discrete_intermediate': True, 'discretize_map': 'gumbel-softmax'}, 'norm_config': {'norm_type': 'rmsnorm', 'norm_method': 'none'}, 'predisc_norm': False, 'vocab_size': 64, 'n_layers': 2, 'n_heads': 4, 'd_model': 256, 'pos_enc_type': 'rotary', 'attn_kwargs': {'attn_score_fn': 'softmax'}, 'input_recall': True, 'weight_tie_discrete_interm': False, 'weight_tie_embed_to_token': False}\n",
      "  train_config: {'learning_rate': 0.001, 'compile': False, 'precision': 'bf16-mixed', 'experiment_run_name': '2024-12-24-21:29:32', 'num_workers': 4, 'matmul_precision': 'medium', 'progressive_training': True, 'wandb_config': {'wandb_project': 'sorting-recurrent-resstream-exploration', 'log_model': True, 'wandb_entity': 'neural-program-induction', 'watch': True}, 'AdamW_optimizer_config': {'lr': 0.001, 'betas': [0.9, 0.999], 'eps': 1e-08, 'weight_decay': 0.01}, 'Adam_optimizer_config': {'weight_decay': 0, 'betas': [0.9, 0.999], 'eps': 1e-08, 'lr': 0.001}, 'progressive_training_prob': 1, 'val_check_interval': 0.05, 'train_max_n_iters': 8, 'batch_size': 64, 'experiment_group': 'L2H4D256_rotary_IRTrue_WTFalse-False_discinterm-gumbel-softmax - progressive - MaxVal64-TrainLen16RandLen-BOSEOS', 'SGD_optimizer_config': {'lr': 0.01, 'weight_decay': 0.01, 'momentum': 0.9, 'nesterov': True}, 'StepLR_scheduler_config': {'gamma': 0.1, 'step_size': 1000}, 'max_epochs': 1, 'RMSprop_optimizer_config': {'momentum': 0, 'weight_decay': 0.01, 'lr': 0.001, 'alpha': 0.99}, 'cosine_scheduler_config': {'warmup_steps': 1000, 'lr_decay_steps': 300000, 'min_lr': 1e-05}, 'optimizer': 'AdamW', 'incremental_training': False, 'seed': 2167860937, 'lr_scheduler': None, 'test_max_n_iters': 24}\n",
      "--------------------------------------------------------------------------------\n",
      "[# 1] Group: HASH-1376922667291897347\n",
      "--------------------------------------------------------------------------------\n",
      "[# 1] Group: HASH--6522490176264240003\n",
      "--------------------------------------------------------------------------------\n",
      "[# 1] Group: HASH-2819502573823915177\n",
      "--------------------------------------------------------------------------------\n",
      "[# 1] Group: HASH--8628671881965598194\n",
      "--------------------------------------------------------------------------------\n",
      "[# 4] Group: L2H4D256_rotary_IRTrue_WTFalse-False_discinterm-hard - progressive - MaxVal64-TrainLen16RandLen-BOSEOS\n",
      "  num_params: 1231424\n",
      "  Params size (MB): 4.925696\n",
      "  Forward/backward pass size  (MB): 0.606208\n",
      "  total_params: 1231424\n",
      "  Estimated total size (MB): 5.532112\n",
      "  num_trainable_params: 1231424\n",
      "  trainable_params: 1231424\n",
      "  Total Mult-Adds: 1247872\n",
      "  seed: 1717161568\n",
      "  experiment_run_name: 2024-12-24-22:34:24\n",
      "  norm_method: none\n",
      "  num_params: 1231424\n",
      "  Params size (MB): 4.925696\n",
      "  Forward/backward pass size  (MB): 0.606208\n",
      "  total_params: 1231424\n",
      "  Estimated total size (MB): 5.532112\n",
      "  num_trainable_params: 1231424\n",
      "  trainable_params: 1231424\n",
      "  Total Mult-Adds: 1247872\n",
      "  seed: 1717161568\n",
      "  experiment_run_name: 2024-12-24-22:34:24\n",
      "  norm_method: none\n",
      "  model_summary: {'num_params': 1231424, 'Params size (MB)': 4.925696, 'Forward/backward pass size  (MB)': 0.606208, 'total_params': 1231424, 'Input size (MB)': 0.000208, 'Estimated total size (MB)': 5.532112, 'num_trainable_params': 1231424, 'trainable_params': 1231424, 'Total Mult-Adds': 1247872}\n",
      "  train_config: {'SGD_optimizer_config': {'nesterov': True, 'momentum': 0.9, 'weight_decay': 0.01, 'lr': 0.01}, 'progressive_training_prob': 1, 'seed': 1717161568, 'max_epochs': 1, 'matmul_precision': 'medium', 'precision': 'bf16-mixed', 'experiment_run_name': '2024-12-24-22:34:24', 'num_workers': 4, 'incremental_training': False, 'optimizer': 'AdamW', 'progressive_training': True, 'batch_size': 64, 'Adam_optimizer_config': {'weight_decay': 0, 'eps': 1e-08, 'lr': 0.001, 'betas': [0.9, 0.999]}, 'train_max_n_iters': 8, 'compile': False, 'lr_scheduler': None, 'learning_rate': 0.001, 'experiment_group': 'L2H4D256_rotary_IRTrue_WTFalse-False_discinterm-hard - progressive - MaxVal64-TrainLen16RandLen-BOSEOS', 'val_check_interval': 0.05, 'wandb_config': {'wandb_entity': 'neural-program-induction', 'watch': True, 'wandb_project': 'sorting-recurrent-resstream-exploration', 'log_model': True}, 'RMSprop_optimizer_config': {'alpha': 0.99, 'lr': 0.001, 'weight_decay': 0.01, 'momentum': 0}, 'AdamW_optimizer_config': {'eps': 1e-08, 'weight_decay': 0.01, 'betas': [0.9, 0.999], 'lr': 0.001}, 'StepLR_scheduler_config': {'gamma': 0.1, 'step_size': 1000}, 'test_max_n_iters': 24, 'cosine_scheduler_config': {'warmup_steps': 1000, 'lr_decay_steps': 300000, 'min_lr': 1e-05}}\n",
      "  model_config: {'norm_config': {'norm_method': 'none', 'norm_type': 'rmsnorm'}, 'pos_enc_type': 'rotary', 'weight_tie_discrete_interm': False, 'predisc_norm': False, 'vocab_size': 64, 'input_recall_type': 'concat', 'n_layers': 2, 'postdisc_norm': False, 'd_model': 256, 'weight_tie_embed_to_token': False, 'dff': 512, 'attn_kwargs': {'attn_score_fn': 'softmax'}, 'intermediate_discretization': {'discretization_map_params': {'straight_through': True}, 'discretize_map': 'hard', 'discrete_intermediate': True}, 'n_heads': 4, 'input_recall': True}\n",
      "  data_config: {'num_test_samples': 50, 'train_random_sequence_length': True, 'max_value': 64, 'val_sequence_length': 16, 'train_sequence_length': 16, 'train_min_sequence_length': 2, 'num_val_samples': 50, 'ood_test_sequence_lengths': [10, 11, 12, 13, 14, 15, 16, 17, 18, 19, 20, 21, 22, 23, 24], 'include_bos_eos': True, 'num_train_samples': 100000}\n",
      "--------------------------------------------------------------------------------\n",
      "[# 1] Group: HASH-5886896340722408923\n",
      "--------------------------------------------------------------------------------\n",
      "[# 1] Group: HASH-2960336265393282395\n",
      "--------------------------------------------------------------------------------\n",
      "[# 4] Group: L2H4D256_rotary_IRTrue_WTFalse-False_discinterm-hard_prepostdiscnorm-True-True - progressive - MaxVal64-TrainLen16RandLen-BOSEOS\n",
      "  seed: 4231732020\n",
      "  experiment_run_name: 2024-12-24-23:06:45\n",
      "  norm_method: none\n",
      "  Estimated total size (MB): 5.599696\n",
      "  Total Mult-Adds: 1248384\n",
      "  trainable_params: 1231936\n",
      "  Forward/backward pass size  (MB): 0.671744\n",
      "  total_params: 1231936\n",
      "  num_params: 1231936\n",
      "  num_trainable_params: 1231936\n",
      "  Params size (MB): 4.927744\n",
      "  seed: 4231732020\n",
      "  experiment_run_name: 2024-12-24-23:06:45\n",
      "  norm_method: none\n",
      "  Estimated total size (MB): 5.599696\n",
      "  Total Mult-Adds: 1248384\n",
      "  trainable_params: 1231936\n",
      "  Forward/backward pass size  (MB): 0.671744\n",
      "  total_params: 1231936\n",
      "  num_params: 1231936\n",
      "  num_trainable_params: 1231936\n",
      "  Params size (MB): 4.927744\n",
      "  data_config: {'max_value': 64, 'val_sequence_length': 16, 'ood_test_sequence_lengths': [10, 11, 12, 13, 14, 15, 16, 17, 18, 19, 20, 21, 22, 23, 24], 'train_sequence_length': 16, 'num_train_samples': 100000, 'include_bos_eos': True, 'num_val_samples': 50, 'num_test_samples': 50, 'train_random_sequence_length': True, 'train_min_sequence_length': 2}\n",
      "  train_config: {'experiment_group': 'L2H4D256_rotary_IRTrue_WTFalse-False_discinterm-hard_prepostdiscnorm-True-True - progressive - MaxVal64-TrainLen16RandLen-BOSEOS', 'progressive_training': True, 'matmul_precision': 'medium', 'cosine_scheduler_config': {'min_lr': 1e-05, 'warmup_steps': 1000, 'lr_decay_steps': 300000}, 'Adam_optimizer_config': {'eps': 1e-08, 'weight_decay': 0, 'lr': 0.001, 'betas': [0.9, 0.999]}, 'compile': False, 'wandb_config': {'wandb_project': 'sorting-recurrent-resstream-exploration', 'log_model': True, 'wandb_entity': 'neural-program-induction', 'watch': True}, 'val_check_interval': 0.05, 'optimizer': 'AdamW', 'seed': 4231732020, 'test_max_n_iters': 24, 'SGD_optimizer_config': {'nesterov': True, 'momentum': 0.9, 'weight_decay': 0.01, 'lr': 0.01}, 'train_max_n_iters': 8, 'precision': 'bf16-mixed', 'lr_scheduler': None, 'StepLR_scheduler_config': {'gamma': 0.1, 'step_size': 1000}, 'batch_size': 64, 'learning_rate': 0.001, 'max_epochs': 1, 'AdamW_optimizer_config': {'betas': [0.9, 0.999], 'weight_decay': 0.01, 'lr': 0.001, 'eps': 1e-08}, 'num_workers': 4, 'experiment_run_name': '2024-12-24-23:06:45', 'incremental_training': False, 'progressive_training_prob': 1, 'RMSprop_optimizer_config': {'alpha': 0.99, 'weight_decay': 0.01, 'momentum': 0, 'lr': 0.001}}\n",
      "  model_config: {'weight_tie_embed_to_token': False, 'input_recall': True, 'vocab_size': 64, 'n_layers': 2, 'attn_kwargs': {'attn_score_fn': 'softmax'}, 'predisc_norm': True, 'pos_enc_type': 'rotary', 'weight_tie_discrete_interm': False, 'dff': 512, 'd_model': 256, 'intermediate_discretization': {'discretization_map_params': {'straight_through': True}, 'discretize_map': 'hard', 'discrete_intermediate': True}, 'n_heads': 4, 'norm_config': {'norm_type': 'rmsnorm', 'norm_method': 'none'}, 'postdisc_norm': True, 'input_recall_type': 'concat'}\n",
      "  model_summary: {'Estimated total size (MB)': 5.599696, 'Total Mult-Adds': 1248384, 'trainable_params': 1231936, 'Forward/backward pass size  (MB)': 0.671744, 'total_params': 1231936, 'num_params': 1231936, 'Input size (MB)': 0.000208, 'num_trainable_params': 1231936, 'Params size (MB)': 4.927744}\n",
      "--------------------------------------------------------------------------------\n",
      "[# 4] Group: L2H4D256_rotary_IRTrue_WTFalse-False_discinterm-sigmoid - progressive - MaxVal64-TrainLen16RandLen-BOSEOS\n",
      "  experiment_run_name: 2024-12-24-23:38:00\n",
      "  seed: 3467954280\n",
      "  norm_method: none\n",
      "  trainable_params: 1231424\n",
      "  total_params: 1231424\n",
      "  Params size (MB): 4.925696\n",
      "  Estimated total size (MB): 5.532112\n",
      "  num_params: 1231424\n",
      "  num_trainable_params: 1231424\n",
      "  Forward/backward pass size  (MB): 0.606208\n",
      "  Total Mult-Adds: 1247872\n",
      "  experiment_run_name: 2024-12-24-23:38:00\n",
      "  seed: 3467954280\n",
      "  norm_method: none\n",
      "  trainable_params: 1231424\n",
      "  total_params: 1231424\n",
      "  Params size (MB): 4.925696\n",
      "  Estimated total size (MB): 5.532112\n",
      "  num_params: 1231424\n",
      "  num_trainable_params: 1231424\n",
      "  Forward/backward pass size  (MB): 0.606208\n",
      "  Total Mult-Adds: 1247872\n",
      "  train_config: {'num_workers': 4, 'lr_scheduler': None, 'optimizer': 'AdamW', 'precision': 'bf16-mixed', 'SGD_optimizer_config': {'weight_decay': 0.01, 'lr': 0.01, 'nesterov': True, 'momentum': 0.9}, 'test_max_n_iters': 24, 'experiment_run_name': '2024-12-24-23:38:00', 'AdamW_optimizer_config': {'betas': [0.9, 0.999], 'weight_decay': 0.01, 'lr': 0.001, 'eps': 1e-08}, 'max_epochs': 1, 'cosine_scheduler_config': {'min_lr': 1e-05, 'lr_decay_steps': 300000, 'warmup_steps': 1000}, 'wandb_config': {'wandb_project': 'sorting-recurrent-resstream-exploration', 'wandb_entity': 'neural-program-induction', 'watch': True, 'log_model': True}, 'matmul_precision': 'medium', 'progressive_training_prob': 1, 'compile': False, 'train_max_n_iters': 8, 'incremental_training': False, 'experiment_group': 'L2H4D256_rotary_IRTrue_WTFalse-False_discinterm-sigmoid - progressive - MaxVal64-TrainLen16RandLen-BOSEOS', 'Adam_optimizer_config': {'betas': [0.9, 0.999], 'weight_decay': 0, 'eps': 1e-08, 'lr': 0.001}, 'RMSprop_optimizer_config': {'alpha': 0.99, 'momentum': 0, 'weight_decay': 0.01, 'lr': 0.001}, 'batch_size': 64, 'progressive_training': True, 'val_check_interval': 0.05, 'seed': 3467954280, 'StepLR_scheduler_config': {'step_size': 1000, 'gamma': 0.1}, 'learning_rate': 0.001}\n",
      "  model_config: {'postdisc_norm': False, 'n_heads': 4, 'd_model': 256, 'norm_config': {'norm_method': 'none', 'norm_type': 'rmsnorm'}, 'attn_kwargs': {'attn_score_fn': 'softmax'}, 'weight_tie_discrete_interm': False, 'vocab_size': 64, 'weight_tie_embed_to_token': False, 'intermediate_discretization': {'discretize_map': 'sigmoid', 'discrete_intermediate': True}, 'pos_enc_type': 'rotary', 'predisc_norm': False, 'input_recall_type': 'concat', 'dff': 512, 'n_layers': 2, 'input_recall': True}\n",
      "  model_summary: {'trainable_params': 1231424, 'total_params': 1231424, 'Params size (MB)': 4.925696, 'Input size (MB)': 0.000208, 'Estimated total size (MB)': 5.532112, 'num_params': 1231424, 'num_trainable_params': 1231424, 'Forward/backward pass size  (MB)': 0.606208, 'Total Mult-Adds': 1247872}\n",
      "  data_config: {'num_test_samples': 50, 'train_min_sequence_length': 2, 'train_random_sequence_length': True, 'num_train_samples': 100000, 'train_sequence_length': 16, 'val_sequence_length': 16, 'num_val_samples': 50, 'include_bos_eos': True, 'ood_test_sequence_lengths': [10, 11, 12, 13, 14, 15, 16, 17, 18, 19, 20, 21, 22, 23, 24], 'max_value': 64}\n",
      "--------------------------------------------------------------------------------\n",
      "[# 1] Group: HASH--3624481764248532969\n",
      "--------------------------------------------------------------------------------\n",
      "[# 1] Group: HASH-4569725859220408916\n",
      "--------------------------------------------------------------------------------\n",
      "[# 1] Group: HASH-145959696596661638\n",
      "--------------------------------------------------------------------------------\n",
      "[# 1] Group: HASH-1322742107138825234\n",
      "--------------------------------------------------------------------------------\n",
      "[# 1] Group: HASH--8783795979414718059\n",
      "--------------------------------------------------------------------------------\n",
      "[# 1] Group: HASH--2928965522072705735\n",
      "--------------------------------------------------------------------------------\n",
      "[# 1] Group: HASH--6793306681074296734\n",
      "--------------------------------------------------------------------------------\n",
      "[# 1] Group: HASH--2045265441603621647\n",
      "--------------------------------------------------------------------------------\n",
      "[# 1] Group: HASH-2981463392655008747\n",
      "--------------------------------------------------------------------------------\n",
      "[# 1] Group: HASH-715314142243320310\n",
      "--------------------------------------------------------------------------------\n",
      "[# 1] Group: HASH--8024427390612534450\n",
      "--------------------------------------------------------------------------------\n",
      "[# 1] Group: HASH--8100936811450519114\n",
      "--------------------------------------------------------------------------------\n",
      "[# 1] Group: HASH--5685105891542415282\n",
      "--------------------------------------------------------------------------------\n",
      "[# 1] Group: HASH-4744649940253370109\n",
      "--------------------------------------------------------------------------------\n",
      "[# 1] Group: HASH-8949023537878440765\n",
      "--------------------------------------------------------------------------------\n",
      "[# 1] Group: HASH-558105249173573502\n",
      "--------------------------------------------------------------------------------\n",
      "[# 1] Group: HASH-5566608781993475496\n",
      "--------------------------------------------------------------------------------\n",
      "[# 1] Group: HASH--7641971697826043942\n",
      "--------------------------------------------------------------------------------\n",
      "[# 1] Group: HASH-4668891175731312440\n",
      "--------------------------------------------------------------------------------\n",
      "[# 1] Group: HASH--5033382782504680328\n",
      "--------------------------------------------------------------------------------\n",
      "[# 1] Group: HASH-1101938781207337957\n",
      "--------------------------------------------------------------------------------\n",
      "[# 1] Group: HASH--5126014466691261737\n",
      "--------------------------------------------------------------------------------\n",
      "[# 1] Group: HASH--1711115917619045982\n",
      "--------------------------------------------------------------------------------\n",
      "[# 1] Group: HASH-8920362660158740403\n",
      "--------------------------------------------------------------------------------\n",
      "[# 1] Group: HASH--2189296151647599209\n",
      "--------------------------------------------------------------------------------\n",
      "[# 1] Group: HASH--1116454355344973853\n",
      "--------------------------------------------------------------------------------\n",
      "[# 1] Group: HASH--813813751190300620\n",
      "--------------------------------------------------------------------------------\n",
      "[# 1] Group: HASH-4019676350581055096\n",
      "--------------------------------------------------------------------------------\n",
      "[# 1] Group: HASH-5905932056296762751\n",
      "--------------------------------------------------------------------------------\n",
      "[# 1] Group: HASH--1681251030204523922\n",
      "--------------------------------------------------------------------------------\n",
      "[# 1] Group: HASH-8321776089426058344\n",
      "--------------------------------------------------------------------------------\n",
      "[# 1] Group: HASH-77094987429338469\n",
      "--------------------------------------------------------------------------------\n",
      "[# 1] Group: HASH-8538934735489879083\n",
      "--------------------------------------------------------------------------------\n",
      "[# 1] Group: HASH-7171363662171634844\n",
      "--------------------------------------------------------------------------------\n",
      "[# 1] Group: HASH--8235100431255717765\n",
      "--------------------------------------------------------------------------------\n",
      "[# 1] Group: HASH--983049990213638753\n",
      "--------------------------------------------------------------------------------\n",
      "[# 1] Group: HASH-449174638731610543\n",
      "--------------------------------------------------------------------------------\n",
      "[# 1] Group: HASH-8687822434983094330\n",
      "--------------------------------------------------------------------------------\n"
     ]
    }
   ],
   "source": [
    "api = wandb.Api()\n",
    "\n",
    "# check differences in config across runs in group\n",
    "wandb_project = \"neural-program-induction/sorting-recurrent-resstream-exploration\"\n",
    "runs = api.runs(wandb_project)\n",
    "\n",
    "groups = {}\n",
    "for run in runs:\n",
    "    group = run.group\n",
    "    if group not in groups:\n",
    "        groups[group] = []\n",
    "    groups[group].append(run)\n",
    "\n",
    "def find_differences_in_dict(dict1, dict2):\n",
    "    for key, value in dict1.items():\n",
    "        if key not in dict2:\n",
    "            print(f'  {key}: {value}')\n",
    "        elif isinstance(value, dict):\n",
    "            find_differences_in_dict(value, dict2[key])\n",
    "        elif value != dict2[key]:\n",
    "            print(f'  {key}: {value}')\n",
    "\n",
    "for group, runs in groups.items():\n",
    "    print(f'[# {len(runs)}] Group: {group}')\n",
    "    config = runs[0].config\n",
    "    for run in runs:\n",
    "        find_differences_in_dict(config, run.config)\n",
    "    print('-'*80)"
   ]
  },
  {
   "cell_type": "code",
   "execution_count": 3,
   "metadata": {},
   "outputs": [],
   "source": [
    "runs = api.runs(wandb_project)\n",
    "\n",
    "# find config keys that are non-constant\n",
    "def flatten_dict(dd, separator='.', prefix=''):\n",
    "    return { prefix + separator + k if prefix else k : v\n",
    "             for kk, vv in dd.items()\n",
    "             for k, v in flatten_dict(vv, separator, kk).items()\n",
    "             } if isinstance(dd, dict) else { prefix : dd }\n",
    "\n",
    "config_key_vals = dict()\n",
    "\n",
    "for run in runs:\n",
    "    run_config = flatten_dict(run.config)\n",
    "\n",
    "    for key, value in run_config.items():\n",
    "        if key not in config_key_vals:\n",
    "            config_key_vals[key] = set()\n",
    "        if isinstance(value, list):\n",
    "            value = tuple(value)\n",
    "        config_key_vals[key].add(value)"
   ]
  },
  {
   "cell_type": "code",
   "execution_count": 4,
   "metadata": {},
   "outputs": [
    {
     "name": "stdout",
     "output_type": "stream",
     "text": [
      "{   'model_config.intermediate_discretization.discrete_intermediate': {   False,\n",
      "                                                                          True},\n",
      "    'model_config.intermediate_discretization.discretize_map': {   'gumbel-softmax',\n",
      "                                                                   'hard',\n",
      "                                                                   'sigmoid',\n",
      "                                                                   'softmax'},\n",
      "    'model_config.norm_config.norm_method': {   'hypersphere-interpolation',\n",
      "                                                'none',\n",
      "                                                'post-norm',\n",
      "                                                'pre-norm'},\n",
      "    'model_config.postdisc_norm': {False, True},\n",
      "    'model_config.predisc_norm': {False, True}}\n"
     ]
    }
   ],
   "source": [
    "# find unique config key values (i.e. non-constant) to use for creating interface\n",
    "unique_config_key_vals = {key: value for key, value in config_key_vals.items() if len(value) > 1}\n",
    "\n",
    "# remove model_summary keys\n",
    "for k in list(unique_config_key_vals.keys()):\n",
    "    if 'model_summary' in k:\n",
    "        del unique_config_key_vals[k]\n",
    "\n",
    "# remove train_config.seed, train_config.experiment_run_name, train_config.experiment_group\n",
    "for k in ['train_config.seed', 'train_config.experiment_run_name', 'train_config.experiment_group']:\n",
    "    if k in unique_config_key_vals:\n",
    "        del unique_config_key_vals[k]\n",
    "\n",
    "pp.pprint(unique_config_key_vals)"
   ]
  },
  {
   "cell_type": "code",
   "execution_count": 5,
   "metadata": {},
   "outputs": [],
   "source": [
    "def filter_runs(config_filter, runs=None):\n",
    "    if runs is None:\n",
    "        runs = api.runs(wandb_project)\n",
    "    # get runs that match config_filter\n",
    "    filtered_runs = []\n",
    "    for run in runs:\n",
    "        if config_pattern_match(flatten_dict(config_filter), flatten_dict(run.config)):\n",
    "            filtered_runs.append(run)\n",
    "\n",
    "    return filtered_runs\n",
    "\n",
    "def config_pattern_match(pattern, config):\n",
    "    # if discrete_intermediate is False, ignore discretize_map from pattern\n",
    "    if not pattern['model_config.intermediate_discretization.discrete_intermediate']:\n",
    "        del pattern['model_config.intermediate_discretization.discretize_map']\n",
    "\n",
    "    for key, value in pattern.items():\n",
    "        if not isinstance(value, dict):\n",
    "            if key not in config or value != config[key]:\n",
    "                return False\n",
    "        else:\n",
    "            if not config_pattern_match(value, config[key]):\n",
    "                return False\n",
    "\n",
    "    return True\n",
    "\n",
    "def print_run_config_diffs(runs):\n",
    "    for run in runs:\n",
    "        print(f'Run: {run.id}')\n",
    "        find_differences_in_dict(runs[0].config, run.config)\n",
    "        print('-'*80)\n",
    "\n",
    "def get_run_plot(pattern):\n",
    "    print('Searching for runs with the following config pattern:')\n",
    "    pp.pprint(pattern)\n",
    "\n",
    "    filtered_runs = filter_runs(pattern)\n",
    "    print(f'Found {len(filtered_runs)} matching runs; will plot last')\n",
    "    if len(filtered_runs) == 0:\n",
    "        print('No matching runs found')\n",
    "        return\n",
    "\n",
    "    if len(filtered_runs) > 1:\n",
    "        print('Differences in config:')\n",
    "        print_run_config_diffs(filtered_runs)\n",
    "\n",
    "    run = filtered_runs[-1]\n",
    "\n",
    "    table = table = api.artifact(f'{wandb_project}/run-{run.id}-testood_eval:latest').get('test/ood_eval')\n",
    "    data = pd.DataFrame(table.data, columns=table.columns)\n",
    "\n",
    "    figs = create_plots(data, AttributeDict(run.config))\n",
    "    return figs"
   ]
  },
  {
   "cell_type": "code",
   "execution_count": 6,
   "metadata": {},
   "outputs": [],
   "source": [
    "def create_plots(test_df, config):\n",
    "    figs = {}\n",
    "\n",
    "    # color scale for lenths\n",
    "    color_scale = px.colors.sample_colorscale('Viridis', len(test_df.L.unique()))\n",
    "\n",
    "    # n_iters vs sequence_acc, color = L\n",
    "    fig = px.line(test_df, x='n_iters', y='sequence_acc', color='L', title='Sequence Accuracy', labels={'sequence_acc': 'Sequence Accuracy', 'n_iters': 'n_iters'}, color_discrete_sequence=color_scale)\n",
    "    fig.add_vline(x=config.train_config.train_max_n_iters, line_dash='dash', line_color='black', annotation_text='train_max_n_iters', annotation_position='top right')\n",
    "    figs['sequence_acc'] = fig\n",
    "\n",
    "    # n_iters vs per_token_acc, color = L\n",
    "    fig = px.line(test_df, x='n_iters', y='per_token_acc', color='L', title='Token-wise Accuracy', labels={'per_token_acc': 'Token-wise Accuracy', 'n_iters': 'n_iters'}, color_discrete_sequence=color_scale)\n",
    "    fig.add_vline(x=config.train_config.train_max_n_iters, line_dash='dash', line_color='black', annotation_text='train_max_n_iters', annotation_position='top right')\n",
    "    figs['per_token_acc'] = fig\n",
    "\n",
    "    # heatmap of n_iters vs L vs sequence_acc\n",
    "    heatmap = test_df.pivot(index='n_iters', columns='L')['sequence_acc']\n",
    "    fig = px.imshow(heatmap, x=heatmap.columns, y=heatmap.index, title='Sequence Accuracy', zmin=0, zmax=1, origin='lower', color_continuous_scale='Hot')\n",
    "    fig.add_hline(y=config.train_config.train_max_n_iters, line_dash='dash', line_color='black', annotation_text='train_max_n_iters', annotation_position='bottom left')\n",
    "    fig.add_vline(x=config.data_config.train_sequence_length, line_dash='dash', line_color='black', annotation_text='train_max_seq_len', annotation_position='bottom right')\n",
    "    figs['sequence_acc_heatmap'] = fig\n",
    "\n",
    "    # heatmap of n_iters vs L vs per_token_acc\n",
    "    heatmap = test_df.pivot(index='n_iters', columns='L')['per_token_acc']\n",
    "    fig = px.imshow(heatmap, x=heatmap.columns, y=heatmap.index, title='Token-wise Accuracy', zmin=0, zmax=1, origin='lower', color_continuous_scale='Hot')\n",
    "    fig.add_hline(y=config.train_config.train_max_n_iters, line_dash='dash', line_color='black', annotation_text='train_max_n_iters', annotation_position='bottom left')\n",
    "    fig.add_vline(x=config.data_config.train_sequence_length, line_dash='dash', line_color='black', annotation_text='train_max_seq_len', annotation_position='bottom right')\n",
    "    figs['per_token_acc_heatmap'] = fig\n",
    "\n",
    "    # max_{n_iters} sequence_acc vs L\n",
    "    max_acc = test_df.groupby('L')['sequence_acc'].max().reset_index()\n",
    "    fig = px.line(max_acc, x='L', y='sequence_acc', title='Sequence Accuracy vs Length (Max over `n_iters`)', labels={'sequence_acc': 'Max Sequence Accuracy', 'L': 'L'})\n",
    "    fig.update_traces(fill='tozeroy') # fill area under curve\n",
    "    fig.add_vline(x=config.data_config.train_sequence_length, line_dash='dash', line_color='black', annotation_text='train_max_seq_len', annotation_position='bottom right')\n",
    "    avg = max_acc['sequence_acc'].mean()\n",
    "    fig.add_hline(y=avg, line_dash='dash', line_color='black', annotation_text=f'avg={avg:.2f}', annotation_position='top right')\n",
    "    figs['max_sequence_acc'] = fig\n",
    "\n",
    "    # max_{n_iters} per_token_acc vs L\n",
    "    max_acc = test_df.groupby('L')['per_token_acc'].max().reset_index()\n",
    "    fig = px.line(max_acc, x='L', y='per_token_acc', title='Token-wise Accuracy vs Length (Max over `n_iters`)', labels={'per_token_acc': 'Max Token-wise Accuracy', 'L': 'L'})\n",
    "    fig.update_traces(fill='tozeroy') # fill area under curve\n",
    "    fig.add_vline(x=config.data_config.train_sequence_length, line_dash='dash', line_color='black', annotation_text='train_max_seq_len', annotation_position='bottom right')\n",
    "    avg = max_acc['per_token_acc'].mean()\n",
    "    fig.add_hline(y=avg, line_dash='dash', line_color='black', annotation_text=f'avg={avg:.2f}', annotation_position='top right')\n",
    "    figs['max_per_token_acc'] = fig\n",
    "\n",
    "    # heatmap of n_iters vs L vs emb_norms\n",
    "    heatmap = test_df.pivot(index='n_iters', columns='L')['emb_norms']\n",
    "    fig = px.imshow(heatmap, x=heatmap.columns, y=heatmap.index, title='Embedding Norms', origin='lower', color_continuous_scale='Hot')\n",
    "    fig.add_hline(y=config.train_config.train_max_n_iters, line_dash='dash', line_color='black', annotation_text='train_max_n_iters', annotation_position='bottom left')\n",
    "    fig.add_vline(x=config.data_config.train_sequence_length, line_dash='dash', line_color='black', annotation_text='train_max_seq_len', annotation_position='bottom right')\n",
    "    figs['emb_norms_heatmap'] = fig\n",
    "\n",
    "    # heatmap of n_iters vs L vs delta_norms\n",
    "    heatmap = test_df.pivot(index='n_iters', columns='L')['delta_norms']\n",
    "    fig = px.imshow(heatmap, x=heatmap.columns, y=heatmap.index, title='Delta Norms', origin='lower', color_continuous_scale='Hot')\n",
    "    fig.add_hline(y=config.train_config.train_max_n_iters, line_dash='dash', line_color='black', annotation_text='train_max_n_iters', annotation_position='bottom left')\n",
    "    fig.add_vline(x=config.data_config.train_sequence_length, line_dash='dash', line_color='black', annotation_text='train_max_seq_len', annotation_position='bottom right')\n",
    "    figs['delta_norms_heatmap'] = fig\n",
    "\n",
    "    # heatmap of n_iters vs L vs logits_states_softmax_entropy\n",
    "    if 'logits_states_softmax_entropy' in test_df.columns:\n",
    "        heatmap = test_df.pivot(index='n_iters', columns='L')['logits_states_softmax_entropy']\n",
    "        fig = px.imshow(heatmap, x=heatmap.columns, y=heatmap.index, title='Logits States Softmax Entropy', origin='lower', color_continuous_scale='Hot')\n",
    "        fig.add_hline(y=config.train_config.train_max_n_iters, line_dash='dash', line_color='black', annotation_text='train_max_n_iters', annotation_position='bottom left')\n",
    "        fig.add_vline(x=config.data_config.train_sequence_length, line_dash='dash', line_color='black', annotation_text='train_max_seq_len', annotation_position='bottom right')\n",
    "        figs['logits_states_softmax_entropy_heatmap'] = fig\n",
    "\n",
    "    return figs"
   ]
  },
  {
   "cell_type": "code",
   "execution_count": 7,
   "metadata": {},
   "outputs": [
    {
     "data": {
      "application/vnd.jupyter.widget-view+json": {
       "model_id": "f9990a7a44b74d7a9d6166757cb64537",
       "version_major": 2,
       "version_minor": 0
      },
      "text/plain": [
       "ToggleButtons(description='model_config.postdisc_norm', options=(False, True), value=False)"
      ]
     },
     "metadata": {},
     "output_type": "display_data"
    },
    {
     "data": {
      "application/vnd.jupyter.widget-view+json": {
       "model_id": "fc6bfe671ab04841846406ee5d0bbd6e",
       "version_major": 2,
       "version_minor": 0
      },
      "text/plain": [
       "ToggleButtons(description='model_config.intermediate_discretization.discrete_intermediate', options=(False, Tr…"
      ]
     },
     "metadata": {},
     "output_type": "display_data"
    },
    {
     "data": {
      "application/vnd.jupyter.widget-view+json": {
       "model_id": "134f7bfccc66412a856e4de40937c5f1",
       "version_major": 2,
       "version_minor": 0
      },
      "text/plain": [
       "ToggleButtons(description='model_config.predisc_norm', options=(False, True), value=False)"
      ]
     },
     "metadata": {},
     "output_type": "display_data"
    },
    {
     "data": {
      "application/vnd.jupyter.widget-view+json": {
       "model_id": "9ce27d101d9d47849687bb990a511894",
       "version_major": 2,
       "version_minor": 0
      },
      "text/plain": [
       "ToggleButtons(description='model_config.norm_config.norm_method', options=('none', 'hypersphere-interpolation'…"
      ]
     },
     "metadata": {},
     "output_type": "display_data"
    },
    {
     "data": {
      "application/vnd.jupyter.widget-view+json": {
       "model_id": "9eea965006e245ea95d1676bfd9800ef",
       "version_major": 2,
       "version_minor": 0
      },
      "text/plain": [
       "ToggleButtons(description='model_config.intermediate_discretization.discretize_map', options=('softmax', 'hard…"
      ]
     },
     "metadata": {},
     "output_type": "display_data"
    },
    {
     "data": {
      "application/vnd.jupyter.widget-view+json": {
       "model_id": "c66c2895cbca4c84a37f6781d12356f3",
       "version_major": 2,
       "version_minor": 0
      },
      "text/plain": [
       "ToggleButtons(description='Plot Type', options=('sequence_acc', 'per_token_acc', 'sequence_acc_heatmap', 'per_…"
      ]
     },
     "metadata": {},
     "output_type": "display_data"
    },
    {
     "data": {
      "application/vnd.jupyter.widget-view+json": {
       "model_id": "4c3d51576cb74699aa78a431eca8b79a",
       "version_major": 2,
       "version_minor": 0
      },
      "text/plain": [
       "Button(description='Generate Plot', icon='check', style=ButtonStyle(), tooltip='Click to generate plot')"
      ]
     },
     "metadata": {},
     "output_type": "display_data"
    },
    {
     "data": {
      "application/vnd.jupyter.widget-view+json": {
       "model_id": "8fb7347babdd4f83bb7b6d1114e6d166",
       "version_major": 2,
       "version_minor": 0
      },
      "text/plain": [
       "Output()"
      ]
     },
     "metadata": {},
     "output_type": "display_data"
    },
    {
     "data": {
      "application/vnd.plotly.v1+json": {
       "config": {
        "plotlyServerURL": "https://plot.ly"
       },
       "data": [
        {
         "fill": "tozeroy",
         "hovertemplate": "L=%{x}<br>Max Sequence Accuracy=%{y}<extra></extra>",
         "legendgroup": "",
         "line": {
          "color": "#636efa",
          "dash": "solid"
         },
         "marker": {
          "symbol": "circle"
         },
         "mode": "lines",
         "name": "",
         "orientation": "v",
         "showlegend": false,
         "type": "scatter",
         "x": [
          10,
          11,
          12,
          13,
          14,
          15,
          16,
          17,
          18,
          19,
          20,
          21,
          22,
          23,
          24
         ],
         "xaxis": "x",
         "y": [
          0.9956250190734863,
          0.989062488079071,
          0.9840624928474426,
          0.9674999713897705,
          0.9568750262260437,
          0.921875,
          0.8903124928474426,
          0.8381249904632568,
          0.7521874904632568,
          0.6349999904632568,
          0.47749999165534973,
          0.29468750953674316,
          0.15281249582767487,
          0.07249999791383743,
          0.02500000037252903
         ],
         "yaxis": "y"
        }
       ],
       "layout": {
        "annotations": [
         {
          "showarrow": false,
          "text": "train_max_seq_len",
          "x": 16,
          "xanchor": "left",
          "xref": "x",
          "y": 0,
          "yanchor": "bottom",
          "yref": "y domain"
         },
         {
          "showarrow": false,
          "text": "avg=0.66",
          "x": 1,
          "xanchor": "right",
          "xref": "x domain",
          "y": 0.6635416638106107,
          "yanchor": "bottom",
          "yref": "y"
         }
        ],
        "legend": {
         "tracegroupgap": 0
        },
        "shapes": [
         {
          "line": {
           "color": "black",
           "dash": "dash"
          },
          "type": "line",
          "x0": 16,
          "x1": 16,
          "xref": "x",
          "y0": 0,
          "y1": 1,
          "yref": "y domain"
         },
         {
          "line": {
           "color": "black",
           "dash": "dash"
          },
          "type": "line",
          "x0": 0,
          "x1": 1,
          "xref": "x domain",
          "y0": 0.6635416638106107,
          "y1": 0.6635416638106107,
          "yref": "y"
         }
        ],
        "template": {
         "data": {
          "bar": [
           {
            "error_x": {
             "color": "#2a3f5f"
            },
            "error_y": {
             "color": "#2a3f5f"
            },
            "marker": {
             "line": {
              "color": "#E5ECF6",
              "width": 0.5
             },
             "pattern": {
              "fillmode": "overlay",
              "size": 10,
              "solidity": 0.2
             }
            },
            "type": "bar"
           }
          ],
          "barpolar": [
           {
            "marker": {
             "line": {
              "color": "#E5ECF6",
              "width": 0.5
             },
             "pattern": {
              "fillmode": "overlay",
              "size": 10,
              "solidity": 0.2
             }
            },
            "type": "barpolar"
           }
          ],
          "carpet": [
           {
            "aaxis": {
             "endlinecolor": "#2a3f5f",
             "gridcolor": "white",
             "linecolor": "white",
             "minorgridcolor": "white",
             "startlinecolor": "#2a3f5f"
            },
            "baxis": {
             "endlinecolor": "#2a3f5f",
             "gridcolor": "white",
             "linecolor": "white",
             "minorgridcolor": "white",
             "startlinecolor": "#2a3f5f"
            },
            "type": "carpet"
           }
          ],
          "choropleth": [
           {
            "colorbar": {
             "outlinewidth": 0,
             "ticks": ""
            },
            "type": "choropleth"
           }
          ],
          "contour": [
           {
            "colorbar": {
             "outlinewidth": 0,
             "ticks": ""
            },
            "colorscale": [
             [
              0,
              "#0d0887"
             ],
             [
              0.1111111111111111,
              "#46039f"
             ],
             [
              0.2222222222222222,
              "#7201a8"
             ],
             [
              0.3333333333333333,
              "#9c179e"
             ],
             [
              0.4444444444444444,
              "#bd3786"
             ],
             [
              0.5555555555555556,
              "#d8576b"
             ],
             [
              0.6666666666666666,
              "#ed7953"
             ],
             [
              0.7777777777777778,
              "#fb9f3a"
             ],
             [
              0.8888888888888888,
              "#fdca26"
             ],
             [
              1,
              "#f0f921"
             ]
            ],
            "type": "contour"
           }
          ],
          "contourcarpet": [
           {
            "colorbar": {
             "outlinewidth": 0,
             "ticks": ""
            },
            "type": "contourcarpet"
           }
          ],
          "heatmap": [
           {
            "colorbar": {
             "outlinewidth": 0,
             "ticks": ""
            },
            "colorscale": [
             [
              0,
              "#0d0887"
             ],
             [
              0.1111111111111111,
              "#46039f"
             ],
             [
              0.2222222222222222,
              "#7201a8"
             ],
             [
              0.3333333333333333,
              "#9c179e"
             ],
             [
              0.4444444444444444,
              "#bd3786"
             ],
             [
              0.5555555555555556,
              "#d8576b"
             ],
             [
              0.6666666666666666,
              "#ed7953"
             ],
             [
              0.7777777777777778,
              "#fb9f3a"
             ],
             [
              0.8888888888888888,
              "#fdca26"
             ],
             [
              1,
              "#f0f921"
             ]
            ],
            "type": "heatmap"
           }
          ],
          "heatmapgl": [
           {
            "colorbar": {
             "outlinewidth": 0,
             "ticks": ""
            },
            "colorscale": [
             [
              0,
              "#0d0887"
             ],
             [
              0.1111111111111111,
              "#46039f"
             ],
             [
              0.2222222222222222,
              "#7201a8"
             ],
             [
              0.3333333333333333,
              "#9c179e"
             ],
             [
              0.4444444444444444,
              "#bd3786"
             ],
             [
              0.5555555555555556,
              "#d8576b"
             ],
             [
              0.6666666666666666,
              "#ed7953"
             ],
             [
              0.7777777777777778,
              "#fb9f3a"
             ],
             [
              0.8888888888888888,
              "#fdca26"
             ],
             [
              1,
              "#f0f921"
             ]
            ],
            "type": "heatmapgl"
           }
          ],
          "histogram": [
           {
            "marker": {
             "pattern": {
              "fillmode": "overlay",
              "size": 10,
              "solidity": 0.2
             }
            },
            "type": "histogram"
           }
          ],
          "histogram2d": [
           {
            "colorbar": {
             "outlinewidth": 0,
             "ticks": ""
            },
            "colorscale": [
             [
              0,
              "#0d0887"
             ],
             [
              0.1111111111111111,
              "#46039f"
             ],
             [
              0.2222222222222222,
              "#7201a8"
             ],
             [
              0.3333333333333333,
              "#9c179e"
             ],
             [
              0.4444444444444444,
              "#bd3786"
             ],
             [
              0.5555555555555556,
              "#d8576b"
             ],
             [
              0.6666666666666666,
              "#ed7953"
             ],
             [
              0.7777777777777778,
              "#fb9f3a"
             ],
             [
              0.8888888888888888,
              "#fdca26"
             ],
             [
              1,
              "#f0f921"
             ]
            ],
            "type": "histogram2d"
           }
          ],
          "histogram2dcontour": [
           {
            "colorbar": {
             "outlinewidth": 0,
             "ticks": ""
            },
            "colorscale": [
             [
              0,
              "#0d0887"
             ],
             [
              0.1111111111111111,
              "#46039f"
             ],
             [
              0.2222222222222222,
              "#7201a8"
             ],
             [
              0.3333333333333333,
              "#9c179e"
             ],
             [
              0.4444444444444444,
              "#bd3786"
             ],
             [
              0.5555555555555556,
              "#d8576b"
             ],
             [
              0.6666666666666666,
              "#ed7953"
             ],
             [
              0.7777777777777778,
              "#fb9f3a"
             ],
             [
              0.8888888888888888,
              "#fdca26"
             ],
             [
              1,
              "#f0f921"
             ]
            ],
            "type": "histogram2dcontour"
           }
          ],
          "mesh3d": [
           {
            "colorbar": {
             "outlinewidth": 0,
             "ticks": ""
            },
            "type": "mesh3d"
           }
          ],
          "parcoords": [
           {
            "line": {
             "colorbar": {
              "outlinewidth": 0,
              "ticks": ""
             }
            },
            "type": "parcoords"
           }
          ],
          "pie": [
           {
            "automargin": true,
            "type": "pie"
           }
          ],
          "scatter": [
           {
            "fillpattern": {
             "fillmode": "overlay",
             "size": 10,
             "solidity": 0.2
            },
            "type": "scatter"
           }
          ],
          "scatter3d": [
           {
            "line": {
             "colorbar": {
              "outlinewidth": 0,
              "ticks": ""
             }
            },
            "marker": {
             "colorbar": {
              "outlinewidth": 0,
              "ticks": ""
             }
            },
            "type": "scatter3d"
           }
          ],
          "scattercarpet": [
           {
            "marker": {
             "colorbar": {
              "outlinewidth": 0,
              "ticks": ""
             }
            },
            "type": "scattercarpet"
           }
          ],
          "scattergeo": [
           {
            "marker": {
             "colorbar": {
              "outlinewidth": 0,
              "ticks": ""
             }
            },
            "type": "scattergeo"
           }
          ],
          "scattergl": [
           {
            "marker": {
             "colorbar": {
              "outlinewidth": 0,
              "ticks": ""
             }
            },
            "type": "scattergl"
           }
          ],
          "scattermapbox": [
           {
            "marker": {
             "colorbar": {
              "outlinewidth": 0,
              "ticks": ""
             }
            },
            "type": "scattermapbox"
           }
          ],
          "scatterpolar": [
           {
            "marker": {
             "colorbar": {
              "outlinewidth": 0,
              "ticks": ""
             }
            },
            "type": "scatterpolar"
           }
          ],
          "scatterpolargl": [
           {
            "marker": {
             "colorbar": {
              "outlinewidth": 0,
              "ticks": ""
             }
            },
            "type": "scatterpolargl"
           }
          ],
          "scatterternary": [
           {
            "marker": {
             "colorbar": {
              "outlinewidth": 0,
              "ticks": ""
             }
            },
            "type": "scatterternary"
           }
          ],
          "surface": [
           {
            "colorbar": {
             "outlinewidth": 0,
             "ticks": ""
            },
            "colorscale": [
             [
              0,
              "#0d0887"
             ],
             [
              0.1111111111111111,
              "#46039f"
             ],
             [
              0.2222222222222222,
              "#7201a8"
             ],
             [
              0.3333333333333333,
              "#9c179e"
             ],
             [
              0.4444444444444444,
              "#bd3786"
             ],
             [
              0.5555555555555556,
              "#d8576b"
             ],
             [
              0.6666666666666666,
              "#ed7953"
             ],
             [
              0.7777777777777778,
              "#fb9f3a"
             ],
             [
              0.8888888888888888,
              "#fdca26"
             ],
             [
              1,
              "#f0f921"
             ]
            ],
            "type": "surface"
           }
          ],
          "table": [
           {
            "cells": {
             "fill": {
              "color": "#EBF0F8"
             },
             "line": {
              "color": "white"
             }
            },
            "header": {
             "fill": {
              "color": "#C8D4E3"
             },
             "line": {
              "color": "white"
             }
            },
            "type": "table"
           }
          ]
         },
         "layout": {
          "annotationdefaults": {
           "arrowcolor": "#2a3f5f",
           "arrowhead": 0,
           "arrowwidth": 1
          },
          "autotypenumbers": "strict",
          "coloraxis": {
           "colorbar": {
            "outlinewidth": 0,
            "ticks": ""
           }
          },
          "colorscale": {
           "diverging": [
            [
             0,
             "#8e0152"
            ],
            [
             0.1,
             "#c51b7d"
            ],
            [
             0.2,
             "#de77ae"
            ],
            [
             0.3,
             "#f1b6da"
            ],
            [
             0.4,
             "#fde0ef"
            ],
            [
             0.5,
             "#f7f7f7"
            ],
            [
             0.6,
             "#e6f5d0"
            ],
            [
             0.7,
             "#b8e186"
            ],
            [
             0.8,
             "#7fbc41"
            ],
            [
             0.9,
             "#4d9221"
            ],
            [
             1,
             "#276419"
            ]
           ],
           "sequential": [
            [
             0,
             "#0d0887"
            ],
            [
             0.1111111111111111,
             "#46039f"
            ],
            [
             0.2222222222222222,
             "#7201a8"
            ],
            [
             0.3333333333333333,
             "#9c179e"
            ],
            [
             0.4444444444444444,
             "#bd3786"
            ],
            [
             0.5555555555555556,
             "#d8576b"
            ],
            [
             0.6666666666666666,
             "#ed7953"
            ],
            [
             0.7777777777777778,
             "#fb9f3a"
            ],
            [
             0.8888888888888888,
             "#fdca26"
            ],
            [
             1,
             "#f0f921"
            ]
           ],
           "sequentialminus": [
            [
             0,
             "#0d0887"
            ],
            [
             0.1111111111111111,
             "#46039f"
            ],
            [
             0.2222222222222222,
             "#7201a8"
            ],
            [
             0.3333333333333333,
             "#9c179e"
            ],
            [
             0.4444444444444444,
             "#bd3786"
            ],
            [
             0.5555555555555556,
             "#d8576b"
            ],
            [
             0.6666666666666666,
             "#ed7953"
            ],
            [
             0.7777777777777778,
             "#fb9f3a"
            ],
            [
             0.8888888888888888,
             "#fdca26"
            ],
            [
             1,
             "#f0f921"
            ]
           ]
          },
          "colorway": [
           "#636efa",
           "#EF553B",
           "#00cc96",
           "#ab63fa",
           "#FFA15A",
           "#19d3f3",
           "#FF6692",
           "#B6E880",
           "#FF97FF",
           "#FECB52"
          ],
          "font": {
           "color": "#2a3f5f"
          },
          "geo": {
           "bgcolor": "white",
           "lakecolor": "white",
           "landcolor": "#E5ECF6",
           "showlakes": true,
           "showland": true,
           "subunitcolor": "white"
          },
          "hoverlabel": {
           "align": "left"
          },
          "hovermode": "closest",
          "mapbox": {
           "style": "light"
          },
          "paper_bgcolor": "white",
          "plot_bgcolor": "#E5ECF6",
          "polar": {
           "angularaxis": {
            "gridcolor": "white",
            "linecolor": "white",
            "ticks": ""
           },
           "bgcolor": "#E5ECF6",
           "radialaxis": {
            "gridcolor": "white",
            "linecolor": "white",
            "ticks": ""
           }
          },
          "scene": {
           "xaxis": {
            "backgroundcolor": "#E5ECF6",
            "gridcolor": "white",
            "gridwidth": 2,
            "linecolor": "white",
            "showbackground": true,
            "ticks": "",
            "zerolinecolor": "white"
           },
           "yaxis": {
            "backgroundcolor": "#E5ECF6",
            "gridcolor": "white",
            "gridwidth": 2,
            "linecolor": "white",
            "showbackground": true,
            "ticks": "",
            "zerolinecolor": "white"
           },
           "zaxis": {
            "backgroundcolor": "#E5ECF6",
            "gridcolor": "white",
            "gridwidth": 2,
            "linecolor": "white",
            "showbackground": true,
            "ticks": "",
            "zerolinecolor": "white"
           }
          },
          "shapedefaults": {
           "line": {
            "color": "#2a3f5f"
           }
          },
          "ternary": {
           "aaxis": {
            "gridcolor": "white",
            "linecolor": "white",
            "ticks": ""
           },
           "baxis": {
            "gridcolor": "white",
            "linecolor": "white",
            "ticks": ""
           },
           "bgcolor": "#E5ECF6",
           "caxis": {
            "gridcolor": "white",
            "linecolor": "white",
            "ticks": ""
           }
          },
          "title": {
           "x": 0.05
          },
          "xaxis": {
           "automargin": true,
           "gridcolor": "white",
           "linecolor": "white",
           "ticks": "",
           "title": {
            "standoff": 15
           },
           "zerolinecolor": "white",
           "zerolinewidth": 2
          },
          "yaxis": {
           "automargin": true,
           "gridcolor": "white",
           "linecolor": "white",
           "ticks": "",
           "title": {
            "standoff": 15
           },
           "zerolinecolor": "white",
           "zerolinewidth": 2
          }
         }
        },
        "title": {
         "text": "Sequence Accuracy vs Length (Max over `n_iters`)"
        },
        "xaxis": {
         "anchor": "y",
         "domain": [
          0,
          1
         ],
         "title": {
          "text": "L"
         }
        },
        "yaxis": {
         "anchor": "x",
         "domain": [
          0,
          1
         ],
         "title": {
          "text": "Max Sequence Accuracy"
         }
        }
       }
      },
      "text/html": [
       "<div>                            <div id=\"969c5618-5b2b-4727-b3b9-7d9c6b785f95\" class=\"plotly-graph-div\" style=\"height:525px; width:100%;\"></div>            <script type=\"text/javascript\">                require([\"plotly\"], function(Plotly) {                    window.PLOTLYENV=window.PLOTLYENV || {};                                    if (document.getElementById(\"969c5618-5b2b-4727-b3b9-7d9c6b785f95\")) {                    Plotly.newPlot(                        \"969c5618-5b2b-4727-b3b9-7d9c6b785f95\",                        [{\"hovertemplate\":\"L=%{x}\\u003cbr\\u003eMax Sequence Accuracy=%{y}\\u003cextra\\u003e\\u003c\\u002fextra\\u003e\",\"legendgroup\":\"\",\"line\":{\"color\":\"#636efa\",\"dash\":\"solid\"},\"marker\":{\"symbol\":\"circle\"},\"mode\":\"lines\",\"name\":\"\",\"orientation\":\"v\",\"showlegend\":false,\"x\":[10,11,12,13,14,15,16,17,18,19,20,21,22,23,24],\"xaxis\":\"x\",\"y\":[0.9956250190734863,0.989062488079071,0.9840624928474426,0.9674999713897705,0.9568750262260437,0.921875,0.8903124928474426,0.8381249904632568,0.7521874904632568,0.6349999904632568,0.47749999165534973,0.29468750953674316,0.15281249582767487,0.07249999791383743,0.02500000037252903],\"yaxis\":\"y\",\"type\":\"scatter\",\"fill\":\"tozeroy\"}],                        {\"template\":{\"data\":{\"histogram2dcontour\":[{\"type\":\"histogram2dcontour\",\"colorbar\":{\"outlinewidth\":0,\"ticks\":\"\"},\"colorscale\":[[0.0,\"#0d0887\"],[0.1111111111111111,\"#46039f\"],[0.2222222222222222,\"#7201a8\"],[0.3333333333333333,\"#9c179e\"],[0.4444444444444444,\"#bd3786\"],[0.5555555555555556,\"#d8576b\"],[0.6666666666666666,\"#ed7953\"],[0.7777777777777778,\"#fb9f3a\"],[0.8888888888888888,\"#fdca26\"],[1.0,\"#f0f921\"]]}],\"choropleth\":[{\"type\":\"choropleth\",\"colorbar\":{\"outlinewidth\":0,\"ticks\":\"\"}}],\"histogram2d\":[{\"type\":\"histogram2d\",\"colorbar\":{\"outlinewidth\":0,\"ticks\":\"\"},\"colorscale\":[[0.0,\"#0d0887\"],[0.1111111111111111,\"#46039f\"],[0.2222222222222222,\"#7201a8\"],[0.3333333333333333,\"#9c179e\"],[0.4444444444444444,\"#bd3786\"],[0.5555555555555556,\"#d8576b\"],[0.6666666666666666,\"#ed7953\"],[0.7777777777777778,\"#fb9f3a\"],[0.8888888888888888,\"#fdca26\"],[1.0,\"#f0f921\"]]}],\"heatmap\":[{\"type\":\"heatmap\",\"colorbar\":{\"outlinewidth\":0,\"ticks\":\"\"},\"colorscale\":[[0.0,\"#0d0887\"],[0.1111111111111111,\"#46039f\"],[0.2222222222222222,\"#7201a8\"],[0.3333333333333333,\"#9c179e\"],[0.4444444444444444,\"#bd3786\"],[0.5555555555555556,\"#d8576b\"],[0.6666666666666666,\"#ed7953\"],[0.7777777777777778,\"#fb9f3a\"],[0.8888888888888888,\"#fdca26\"],[1.0,\"#f0f921\"]]}],\"heatmapgl\":[{\"type\":\"heatmapgl\",\"colorbar\":{\"outlinewidth\":0,\"ticks\":\"\"},\"colorscale\":[[0.0,\"#0d0887\"],[0.1111111111111111,\"#46039f\"],[0.2222222222222222,\"#7201a8\"],[0.3333333333333333,\"#9c179e\"],[0.4444444444444444,\"#bd3786\"],[0.5555555555555556,\"#d8576b\"],[0.6666666666666666,\"#ed7953\"],[0.7777777777777778,\"#fb9f3a\"],[0.8888888888888888,\"#fdca26\"],[1.0,\"#f0f921\"]]}],\"contourcarpet\":[{\"type\":\"contourcarpet\",\"colorbar\":{\"outlinewidth\":0,\"ticks\":\"\"}}],\"contour\":[{\"type\":\"contour\",\"colorbar\":{\"outlinewidth\":0,\"ticks\":\"\"},\"colorscale\":[[0.0,\"#0d0887\"],[0.1111111111111111,\"#46039f\"],[0.2222222222222222,\"#7201a8\"],[0.3333333333333333,\"#9c179e\"],[0.4444444444444444,\"#bd3786\"],[0.5555555555555556,\"#d8576b\"],[0.6666666666666666,\"#ed7953\"],[0.7777777777777778,\"#fb9f3a\"],[0.8888888888888888,\"#fdca26\"],[1.0,\"#f0f921\"]]}],\"surface\":[{\"type\":\"surface\",\"colorbar\":{\"outlinewidth\":0,\"ticks\":\"\"},\"colorscale\":[[0.0,\"#0d0887\"],[0.1111111111111111,\"#46039f\"],[0.2222222222222222,\"#7201a8\"],[0.3333333333333333,\"#9c179e\"],[0.4444444444444444,\"#bd3786\"],[0.5555555555555556,\"#d8576b\"],[0.6666666666666666,\"#ed7953\"],[0.7777777777777778,\"#fb9f3a\"],[0.8888888888888888,\"#fdca26\"],[1.0,\"#f0f921\"]]}],\"mesh3d\":[{\"type\":\"mesh3d\",\"colorbar\":{\"outlinewidth\":0,\"ticks\":\"\"}}],\"scatter\":[{\"fillpattern\":{\"fillmode\":\"overlay\",\"size\":10,\"solidity\":0.2},\"type\":\"scatter\"}],\"parcoords\":[{\"type\":\"parcoords\",\"line\":{\"colorbar\":{\"outlinewidth\":0,\"ticks\":\"\"}}}],\"scatterpolargl\":[{\"type\":\"scatterpolargl\",\"marker\":{\"colorbar\":{\"outlinewidth\":0,\"ticks\":\"\"}}}],\"bar\":[{\"error_x\":{\"color\":\"#2a3f5f\"},\"error_y\":{\"color\":\"#2a3f5f\"},\"marker\":{\"line\":{\"color\":\"#E5ECF6\",\"width\":0.5},\"pattern\":{\"fillmode\":\"overlay\",\"size\":10,\"solidity\":0.2}},\"type\":\"bar\"}],\"scattergeo\":[{\"type\":\"scattergeo\",\"marker\":{\"colorbar\":{\"outlinewidth\":0,\"ticks\":\"\"}}}],\"scatterpolar\":[{\"type\":\"scatterpolar\",\"marker\":{\"colorbar\":{\"outlinewidth\":0,\"ticks\":\"\"}}}],\"histogram\":[{\"marker\":{\"pattern\":{\"fillmode\":\"overlay\",\"size\":10,\"solidity\":0.2}},\"type\":\"histogram\"}],\"scattergl\":[{\"type\":\"scattergl\",\"marker\":{\"colorbar\":{\"outlinewidth\":0,\"ticks\":\"\"}}}],\"scatter3d\":[{\"type\":\"scatter3d\",\"line\":{\"colorbar\":{\"outlinewidth\":0,\"ticks\":\"\"}},\"marker\":{\"colorbar\":{\"outlinewidth\":0,\"ticks\":\"\"}}}],\"scattermapbox\":[{\"type\":\"scattermapbox\",\"marker\":{\"colorbar\":{\"outlinewidth\":0,\"ticks\":\"\"}}}],\"scatterternary\":[{\"type\":\"scatterternary\",\"marker\":{\"colorbar\":{\"outlinewidth\":0,\"ticks\":\"\"}}}],\"scattercarpet\":[{\"type\":\"scattercarpet\",\"marker\":{\"colorbar\":{\"outlinewidth\":0,\"ticks\":\"\"}}}],\"carpet\":[{\"aaxis\":{\"endlinecolor\":\"#2a3f5f\",\"gridcolor\":\"white\",\"linecolor\":\"white\",\"minorgridcolor\":\"white\",\"startlinecolor\":\"#2a3f5f\"},\"baxis\":{\"endlinecolor\":\"#2a3f5f\",\"gridcolor\":\"white\",\"linecolor\":\"white\",\"minorgridcolor\":\"white\",\"startlinecolor\":\"#2a3f5f\"},\"type\":\"carpet\"}],\"table\":[{\"cells\":{\"fill\":{\"color\":\"#EBF0F8\"},\"line\":{\"color\":\"white\"}},\"header\":{\"fill\":{\"color\":\"#C8D4E3\"},\"line\":{\"color\":\"white\"}},\"type\":\"table\"}],\"barpolar\":[{\"marker\":{\"line\":{\"color\":\"#E5ECF6\",\"width\":0.5},\"pattern\":{\"fillmode\":\"overlay\",\"size\":10,\"solidity\":0.2}},\"type\":\"barpolar\"}],\"pie\":[{\"automargin\":true,\"type\":\"pie\"}]},\"layout\":{\"autotypenumbers\":\"strict\",\"colorway\":[\"#636efa\",\"#EF553B\",\"#00cc96\",\"#ab63fa\",\"#FFA15A\",\"#19d3f3\",\"#FF6692\",\"#B6E880\",\"#FF97FF\",\"#FECB52\"],\"font\":{\"color\":\"#2a3f5f\"},\"hovermode\":\"closest\",\"hoverlabel\":{\"align\":\"left\"},\"paper_bgcolor\":\"white\",\"plot_bgcolor\":\"#E5ECF6\",\"polar\":{\"bgcolor\":\"#E5ECF6\",\"angularaxis\":{\"gridcolor\":\"white\",\"linecolor\":\"white\",\"ticks\":\"\"},\"radialaxis\":{\"gridcolor\":\"white\",\"linecolor\":\"white\",\"ticks\":\"\"}},\"ternary\":{\"bgcolor\":\"#E5ECF6\",\"aaxis\":{\"gridcolor\":\"white\",\"linecolor\":\"white\",\"ticks\":\"\"},\"baxis\":{\"gridcolor\":\"white\",\"linecolor\":\"white\",\"ticks\":\"\"},\"caxis\":{\"gridcolor\":\"white\",\"linecolor\":\"white\",\"ticks\":\"\"}},\"coloraxis\":{\"colorbar\":{\"outlinewidth\":0,\"ticks\":\"\"}},\"colorscale\":{\"sequential\":[[0.0,\"#0d0887\"],[0.1111111111111111,\"#46039f\"],[0.2222222222222222,\"#7201a8\"],[0.3333333333333333,\"#9c179e\"],[0.4444444444444444,\"#bd3786\"],[0.5555555555555556,\"#d8576b\"],[0.6666666666666666,\"#ed7953\"],[0.7777777777777778,\"#fb9f3a\"],[0.8888888888888888,\"#fdca26\"],[1.0,\"#f0f921\"]],\"sequentialminus\":[[0.0,\"#0d0887\"],[0.1111111111111111,\"#46039f\"],[0.2222222222222222,\"#7201a8\"],[0.3333333333333333,\"#9c179e\"],[0.4444444444444444,\"#bd3786\"],[0.5555555555555556,\"#d8576b\"],[0.6666666666666666,\"#ed7953\"],[0.7777777777777778,\"#fb9f3a\"],[0.8888888888888888,\"#fdca26\"],[1.0,\"#f0f921\"]],\"diverging\":[[0,\"#8e0152\"],[0.1,\"#c51b7d\"],[0.2,\"#de77ae\"],[0.3,\"#f1b6da\"],[0.4,\"#fde0ef\"],[0.5,\"#f7f7f7\"],[0.6,\"#e6f5d0\"],[0.7,\"#b8e186\"],[0.8,\"#7fbc41\"],[0.9,\"#4d9221\"],[1,\"#276419\"]]},\"xaxis\":{\"gridcolor\":\"white\",\"linecolor\":\"white\",\"ticks\":\"\",\"title\":{\"standoff\":15},\"zerolinecolor\":\"white\",\"automargin\":true,\"zerolinewidth\":2},\"yaxis\":{\"gridcolor\":\"white\",\"linecolor\":\"white\",\"ticks\":\"\",\"title\":{\"standoff\":15},\"zerolinecolor\":\"white\",\"automargin\":true,\"zerolinewidth\":2},\"scene\":{\"xaxis\":{\"backgroundcolor\":\"#E5ECF6\",\"gridcolor\":\"white\",\"linecolor\":\"white\",\"showbackground\":true,\"ticks\":\"\",\"zerolinecolor\":\"white\",\"gridwidth\":2},\"yaxis\":{\"backgroundcolor\":\"#E5ECF6\",\"gridcolor\":\"white\",\"linecolor\":\"white\",\"showbackground\":true,\"ticks\":\"\",\"zerolinecolor\":\"white\",\"gridwidth\":2},\"zaxis\":{\"backgroundcolor\":\"#E5ECF6\",\"gridcolor\":\"white\",\"linecolor\":\"white\",\"showbackground\":true,\"ticks\":\"\",\"zerolinecolor\":\"white\",\"gridwidth\":2}},\"shapedefaults\":{\"line\":{\"color\":\"#2a3f5f\"}},\"annotationdefaults\":{\"arrowcolor\":\"#2a3f5f\",\"arrowhead\":0,\"arrowwidth\":1},\"geo\":{\"bgcolor\":\"white\",\"landcolor\":\"#E5ECF6\",\"subunitcolor\":\"white\",\"showland\":true,\"showlakes\":true,\"lakecolor\":\"white\"},\"title\":{\"x\":0.05},\"mapbox\":{\"style\":\"light\"}}},\"xaxis\":{\"anchor\":\"y\",\"domain\":[0.0,1.0],\"title\":{\"text\":\"L\"}},\"yaxis\":{\"anchor\":\"x\",\"domain\":[0.0,1.0],\"title\":{\"text\":\"Max Sequence Accuracy\"}},\"legend\":{\"tracegroupgap\":0},\"title\":{\"text\":\"Sequence Accuracy vs Length (Max over `n_iters`)\"},\"shapes\":[{\"line\":{\"color\":\"black\",\"dash\":\"dash\"},\"type\":\"line\",\"x0\":16,\"x1\":16,\"xref\":\"x\",\"y0\":0,\"y1\":1,\"yref\":\"y domain\"},{\"line\":{\"color\":\"black\",\"dash\":\"dash\"},\"type\":\"line\",\"x0\":0,\"x1\":1,\"xref\":\"x domain\",\"y0\":0.6635416638106107,\"y1\":0.6635416638106107,\"yref\":\"y\"}],\"annotations\":[{\"showarrow\":false,\"text\":\"train_max_seq_len\",\"x\":16,\"xanchor\":\"left\",\"xref\":\"x\",\"y\":0,\"yanchor\":\"bottom\",\"yref\":\"y domain\"},{\"showarrow\":false,\"text\":\"avg=0.66\",\"x\":1,\"xanchor\":\"right\",\"xref\":\"x domain\",\"y\":0.6635416638106107,\"yanchor\":\"bottom\",\"yref\":\"y\"}]},                        {\"responsive\": true}                    ).then(function(){\n",
       "                            \n",
       "var gd = document.getElementById('969c5618-5b2b-4727-b3b9-7d9c6b785f95');\n",
       "var x = new MutationObserver(function (mutations, observer) {{\n",
       "        var display = window.getComputedStyle(gd).display;\n",
       "        if (!display || display === 'none') {{\n",
       "            console.log([gd, 'removed!']);\n",
       "            Plotly.purge(gd);\n",
       "            observer.disconnect();\n",
       "        }}\n",
       "}});\n",
       "\n",
       "// Listen for the removal of the full notebook cells\n",
       "var notebookContainer = gd.closest('#notebook-container');\n",
       "if (notebookContainer) {{\n",
       "    x.observe(notebookContainer, {childList: true});\n",
       "}}\n",
       "\n",
       "// Listen for the clearing of the current output cell\n",
       "var outputEl = gd.closest('.output');\n",
       "if (outputEl) {{\n",
       "    x.observe(outputEl, {childList: true});\n",
       "}}\n",
       "\n",
       "                        })                };                });            </script>        </div>"
      ]
     },
     "metadata": {},
     "output_type": "display_data"
    },
    {
     "name": "stderr",
     "output_type": "stream",
     "text": [
      "\u001b[34m\u001b[1mwandb\u001b[0m:   1 of 1 files downloaded.  \n"
     ]
    },
    {
     "name": "stderr",
     "output_type": "stream",
     "text": [
      "\u001b[34m\u001b[1mwandb\u001b[0m:   1 of 1 files downloaded.  \n"
     ]
    },
    {
     "name": "stderr",
     "output_type": "stream",
     "text": [
      "\u001b[34m\u001b[1mwandb\u001b[0m:   1 of 1 files downloaded.  \n"
     ]
    },
    {
     "name": "stderr",
     "output_type": "stream",
     "text": [
      "\u001b[34m\u001b[1mwandb\u001b[0m:   1 of 1 files downloaded.  \n"
     ]
    },
    {
     "name": "stderr",
     "output_type": "stream",
     "text": [
      "\u001b[34m\u001b[1mwandb\u001b[0m:   1 of 1 files downloaded.  \n"
     ]
    }
   ],
   "source": [
    "# interactive plot\n",
    "import ipywidgets as widgets\n",
    "from IPython.display import display\n",
    "import plotly.express as px\n",
    "import pandas as pd\n",
    "\n",
    "\n",
    "# Create interactive widgets for each field in the pattern\n",
    "config_widgets = []\n",
    "\n",
    "for k in unique_config_key_vals.keys():\n",
    "    config_widget = widgets.ToggleButtons(\n",
    "        options=unique_config_key_vals[k],\n",
    "        description=k,\n",
    "        disabled=False,\n",
    "    )\n",
    "    config_widgets.append(config_widget)\n",
    "\n",
    "plot_type = widgets.ToggleButtons(\n",
    "    options=['sequence_acc', 'per_token_acc', 'sequence_acc_heatmap', 'per_token_acc_heatmap', 'max_sequence_acc', 'max_per_token_acc', 'emb_norms_heatmap', 'delta_norms_heatmap', 'logits_states_softmax_entropy_heatmap'],\n",
    "    description='Plot Type',\n",
    "    disabled=False,\n",
    ")\n",
    "\n",
    "output = widgets.Output()\n",
    "\n",
    "def on_button_click(b):\n",
    "    with output:\n",
    "        output.clear_output()\n",
    "\n",
    "        pattern = {config_widget.description: config_widget.value for config_widget in config_widgets}\n",
    "\n",
    "        figs = get_run_plot(pattern)\n",
    "        if figs is not None:\n",
    "            figs[plot_type.value].show()\n",
    "\n",
    "button = widgets.Button(\n",
    "    description='Generate Plot',\n",
    "    disabled=False,\n",
    "    button_style='',\n",
    "    tooltip='Click to generate plot',\n",
    "    icon='check'\n",
    ")\n",
    "\n",
    "button.on_click(on_button_click)\n",
    "\n",
    "# Display widgets\n",
    "display(*config_widgets, plot_type, button, output)"
   ]
  }
 ],
 "metadata": {
  "kernelspec": {
   "display_name": "Python 3",
   "language": "python",
   "name": "python3"
  },
  "language_info": {
   "codemirror_mode": {
    "name": "ipython",
    "version": 3
   },
   "file_extension": ".py",
   "mimetype": "text/x-python",
   "name": "python",
   "nbconvert_exporter": "python",
   "pygments_lexer": "ipython3",
   "version": "3.11.9"
  }
 },
 "nbformat": 4,
 "nbformat_minor": 2
}
